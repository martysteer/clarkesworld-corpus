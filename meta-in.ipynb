{
 "cells": [
  {
   "cell_type": "code",
   "execution_count": null,
   "id": "a954ffda-782c-49f2-a707-9bf258fd1d30",
   "metadata": {},
   "outputs": [],
   "source": []
  },
  {
   "cell_type": "markdown",
   "id": "2917e5f3-5e0c-421a-9f74-e59051a0f559",
   "metadata": {},
   "source": [
    "## metadata Into XML and JSON\n",
    "\n",
    "This is a two step process, but the origin is the CSV file which was build from the trafilatura output.\n",
    "\n",
    "First, we need to prepare the text corpus into a good arranged filesystem.\n",
    "Second, we then need to put updated metadata into the textfile corpus headers, and link these files back into the CSV.\n",
    "\n",
    "This keeps the embdedded metadata up to date with the CSV metadata."
   ]
  },
  {
   "cell_type": "code",
   "execution_count": 1,
   "id": "cf20f170-9e59-4a64-9aaa-a58f304909fe",
   "metadata": {
    "execution": {
     "iopub.execute_input": "2022-08-20T18:51:42.186541Z",
     "iopub.status.busy": "2022-08-20T18:51:42.185981Z",
     "iopub.status.idle": "2022-08-20T18:51:42.510363Z",
     "shell.execute_reply": "2022-08-20T18:51:42.510058Z"
    },
    "tags": []
   },
   "outputs": [],
   "source": [
    "import glob, os, json, re\n",
    "import pandas as pd\n",
    "import xml.etree.ElementTree as ET\n",
    "import xml\n",
    "\n",
    "_RE_COMBINE_WHITESPACE = re.compile(r\" +\")"
   ]
  },
  {
   "cell_type": "code",
   "execution_count": 2,
   "id": "1270a72c-bab7-491f-b478-4260c5baab07",
   "metadata": {
    "execution": {
     "iopub.execute_input": "2022-08-20T18:51:42.512126Z",
     "iopub.status.busy": "2022-08-20T18:51:42.511996Z",
     "iopub.status.idle": "2022-08-20T18:51:42.514720Z",
     "shell.execute_reply": "2022-08-20T18:51:42.514466Z"
    },
    "tags": []
   },
   "outputs": [],
   "source": [
    "def getCorpus(globpath):\n",
    "    '''\n",
    "    Give a globpath, load all the XML and JSON files into a dataframe and return.\n",
    "    '''\n",
    "    files = glob.glob(globpath)\n",
    "\n",
    "    frames = []\n",
    "    \n",
    "    for fn in files:\n",
    "        if fn.endswith('xml'):\n",
    "            frame = pd.read_xml(fn, xpath='//doc', attrs_only=True)\n",
    "            frame['filename'] = fn\n",
    "            frames.append(frame)\n",
    "            \n",
    "        elif fn.endswith('json'):\n",
    "            frame = pd.read_json(fn, lines=True)\n",
    "            frame['filename'] = fn\n",
    "            del frame['raw_text']\n",
    "            del frame['text']\n",
    "            frames.append(frame)\n",
    "    \n",
    "    return pd.concat(frames)"
   ]
  },
  {
   "cell_type": "markdown",
   "id": "3e1dd564-45ec-4ba8-a6f4-13cf8f6a1d4a",
   "metadata": {},
   "source": [
    "## Load the data"
   ]
  },
  {
   "cell_type": "code",
   "execution_count": 3,
   "id": "cae6e83e-9f99-4201-b84d-e06d4bb8a484",
   "metadata": {
    "execution": {
     "iopub.execute_input": "2022-08-20T18:51:42.516216Z",
     "iopub.status.busy": "2022-08-20T18:51:42.516133Z",
     "iopub.status.idle": "2022-08-20T18:51:42.532423Z",
     "shell.execute_reply": "2022-08-20T18:51:42.532144Z"
    },
    "tags": []
   },
   "outputs": [
    {
     "data": {
      "text/html": [
       "<div>\n",
       "<style scoped>\n",
       "    .dataframe tbody tr th:only-of-type {\n",
       "        vertical-align: middle;\n",
       "    }\n",
       "\n",
       "    .dataframe tbody tr th {\n",
       "        vertical-align: top;\n",
       "    }\n",
       "\n",
       "    .dataframe thead th {\n",
       "        text-align: right;\n",
       "    }\n",
       "</style>\n",
       "<table border=\"1\" class=\"dataframe\">\n",
       "  <thead>\n",
       "    <tr style=\"text-align: right;\">\n",
       "      <th></th>\n",
       "      <th>sitename</th>\n",
       "      <th>title</th>\n",
       "      <th>author</th>\n",
       "      <th>date</th>\n",
       "      <th>source</th>\n",
       "      <th>hostname</th>\n",
       "      <th>excerpt</th>\n",
       "      <th>categories</th>\n",
       "      <th>tags</th>\n",
       "      <th>id</th>\n",
       "      <th>license</th>\n",
       "      <th>comments</th>\n",
       "      <th>source-hostname</th>\n",
       "    </tr>\n",
       "    <tr>\n",
       "      <th>fingerprint</th>\n",
       "      <th></th>\n",
       "      <th></th>\n",
       "      <th></th>\n",
       "      <th></th>\n",
       "      <th></th>\n",
       "      <th></th>\n",
       "      <th></th>\n",
       "      <th></th>\n",
       "      <th></th>\n",
       "      <th></th>\n",
       "      <th></th>\n",
       "      <th></th>\n",
       "      <th></th>\n",
       "    </tr>\n",
       "  </thead>\n",
       "  <tbody>\n",
       "    <tr>\n",
       "      <th>/6eHxEPR+q2YoP1tDcWkWESJjHk=</th>\n",
       "      <td>Clarkesworld Magazine</td>\n",
       "      <td>A Stopped Clock</td>\n",
       "      <td>Madeline Ashby</td>\n",
       "      <td>2015-11-09</td>\n",
       "      <td>https://clarkesworldmagazine.com/ashby_08_16_r...</td>\n",
       "      <td>clarkesworldmagazine.com</td>\n",
       "      <td>Clarkesworld Science Fiction and Fantasy Magaz...</td>\n",
       "      <td>Short fiction</td>\n",
       "      <td>Cyberwarfare</td>\n",
       "      <td>2027533</td>\n",
       "      <td>NaN</td>\n",
       "      <td>NaN</td>\n",
       "      <td>Clarkesworld Magazine</td>\n",
       "    </tr>\n",
       "    <tr>\n",
       "      <th>/6wwXCKld7x8aiwwTeiGscyqFf4=</th>\n",
       "      <td>Clarkesworld Magazine</td>\n",
       "      <td>Staying Loose: A Conversation with Max Gladsto...</td>\n",
       "      <td>Arley Sorg</td>\n",
       "      <td>2022-02-00</td>\n",
       "      <td>https://clarkesworldmagazine.com/gladstone_int...</td>\n",
       "      <td>clarkesworldmagazine.com</td>\n",
       "      <td>Clarkesworld Science Fiction and Fantasy Magaz...</td>\n",
       "      <td>Interview</td>\n",
       "      <td>NaN</td>\n",
       "      <td>3004850</td>\n",
       "      <td>NaN</td>\n",
       "      <td>NaN</td>\n",
       "      <td>Clarkesworld Magazine</td>\n",
       "    </tr>\n",
       "  </tbody>\n",
       "</table>\n",
       "</div>"
      ],
      "text/plain": [
       "                                           sitename  \\\n",
       "fingerprint                                           \n",
       "/6eHxEPR+q2YoP1tDcWkWESJjHk=  Clarkesworld Magazine   \n",
       "/6wwXCKld7x8aiwwTeiGscyqFf4=  Clarkesworld Magazine   \n",
       "\n",
       "                                                                          title  \\\n",
       "fingerprint                                                                       \n",
       "/6eHxEPR+q2YoP1tDcWkWESJjHk=                                    A Stopped Clock   \n",
       "/6wwXCKld7x8aiwwTeiGscyqFf4=  Staying Loose: A Conversation with Max Gladsto...   \n",
       "\n",
       "                                      author        date  \\\n",
       "fingerprint                                                \n",
       "/6eHxEPR+q2YoP1tDcWkWESJjHk=  Madeline Ashby  2015-11-09   \n",
       "/6wwXCKld7x8aiwwTeiGscyqFf4=      Arley Sorg  2022-02-00   \n",
       "\n",
       "                                                                         source  \\\n",
       "fingerprint                                                                       \n",
       "/6eHxEPR+q2YoP1tDcWkWESJjHk=  https://clarkesworldmagazine.com/ashby_08_16_r...   \n",
       "/6wwXCKld7x8aiwwTeiGscyqFf4=  https://clarkesworldmagazine.com/gladstone_int...   \n",
       "\n",
       "                                              hostname  \\\n",
       "fingerprint                                              \n",
       "/6eHxEPR+q2YoP1tDcWkWESJjHk=  clarkesworldmagazine.com   \n",
       "/6wwXCKld7x8aiwwTeiGscyqFf4=  clarkesworldmagazine.com   \n",
       "\n",
       "                                                                        excerpt  \\\n",
       "fingerprint                                                                       \n",
       "/6eHxEPR+q2YoP1tDcWkWESJjHk=  Clarkesworld Science Fiction and Fantasy Magaz...   \n",
       "/6wwXCKld7x8aiwwTeiGscyqFf4=  Clarkesworld Science Fiction and Fantasy Magaz...   \n",
       "\n",
       "                                 categories          tags       id  license  \\\n",
       "fingerprint                                                                   \n",
       "/6eHxEPR+q2YoP1tDcWkWESJjHk=  Short fiction  Cyberwarfare  2027533      NaN   \n",
       "/6wwXCKld7x8aiwwTeiGscyqFf4=      Interview           NaN  3004850      NaN   \n",
       "\n",
       "                              comments        source-hostname  \n",
       "fingerprint                                                    \n",
       "/6eHxEPR+q2YoP1tDcWkWESJjHk=       NaN  Clarkesworld Magazine  \n",
       "/6wwXCKld7x8aiwwTeiGscyqFf4=       NaN  Clarkesworld Magazine  "
      ]
     },
     "execution_count": 3,
     "metadata": {},
     "output_type": "execute_result"
    }
   ],
   "source": [
    "# load csv primary data source\n",
    "meta = pd.read_csv('./traffy-meta.csv').set_index('fingerprint')\n",
    "meta.id = meta['id'].fillna(0).astype(int)\n",
    "meta.head(2)"
   ]
  },
  {
   "cell_type": "code",
   "execution_count": 4,
   "id": "3930fd90-8b5c-4243-a920-b38b21fb6fdb",
   "metadata": {
    "execution": {
     "iopub.execute_input": "2022-08-20T18:51:42.534058Z",
     "iopub.status.busy": "2022-08-20T18:51:42.533948Z",
     "iopub.status.idle": "2022-08-20T18:51:50.343569Z",
     "shell.execute_reply": "2022-08-20T18:51:50.343277Z"
    },
    "tags": []
   },
   "outputs": [
    {
     "name": "stdout",
     "output_type": "stream",
     "text": [
      "CPU times: user 7.44 s, sys: 205 ms, total: 7.64 s\n",
      "Wall time: 7.81 s\n"
     ]
    },
    {
     "data": {
      "text/html": [
       "<div>\n",
       "<style scoped>\n",
       "    .dataframe tbody tr th:only-of-type {\n",
       "        vertical-align: middle;\n",
       "    }\n",
       "\n",
       "    .dataframe tbody tr th {\n",
       "        vertical-align: top;\n",
       "    }\n",
       "\n",
       "    .dataframe thead th {\n",
       "        text-align: right;\n",
       "    }\n",
       "</style>\n",
       "<table border=\"1\" class=\"dataframe\">\n",
       "  <thead>\n",
       "    <tr style=\"text-align: right;\">\n",
       "      <th></th>\n",
       "      <th>filename</th>\n",
       "    </tr>\n",
       "    <tr>\n",
       "      <th>fingerprint</th>\n",
       "      <th></th>\n",
       "    </tr>\n",
       "  </thead>\n",
       "  <tbody>\n",
       "    <tr>\n",
       "      <th>EreEXVl04TMXumeyideOBeIxoPM=</th>\n",
       "      <td>./data/1/21QgJXT6wVnb-zv2by+b1DVhlI4.xml</td>\n",
       "    </tr>\n",
       "    <tr>\n",
       "      <th>AIIZGz2/wU9mFu8wIsVZ9YWTHWU=</th>\n",
       "      <td>./data/1/MyOyM9pq+yOEP9mNAfO2VjYVBp4.json</td>\n",
       "    </tr>\n",
       "    <tr>\n",
       "      <th>S5o7E0U97anmTY/+VHEnnI5o2W4=</th>\n",
       "      <td>./data/1/+B+tTSkvZzVVhXr1YTtbktWOxhY.json</td>\n",
       "    </tr>\n",
       "    <tr>\n",
       "      <th>iRusfgy2RbSqjShLaVWJQ21sh4E=</th>\n",
       "      <td>./data/1/7VkxKi84dUugRxCOaQ3q2e2VBCM.json</td>\n",
       "    </tr>\n",
       "    <tr>\n",
       "      <th>UiQ0PhcBxUAaRlZNQdTeuo0FBEI=</th>\n",
       "      <td>./data/1/GiCvmlE-6touLM7OHLCXxMRgGKw.xml</td>\n",
       "    </tr>\n",
       "  </tbody>\n",
       "</table>\n",
       "</div>"
      ],
      "text/plain": [
       "                                                               filename\n",
       "fingerprint                                                            \n",
       "EreEXVl04TMXumeyideOBeIxoPM=   ./data/1/21QgJXT6wVnb-zv2by+b1DVhlI4.xml\n",
       "AIIZGz2/wU9mFu8wIsVZ9YWTHWU=  ./data/1/MyOyM9pq+yOEP9mNAfO2VjYVBp4.json\n",
       "S5o7E0U97anmTY/+VHEnnI5o2W4=  ./data/1/+B+tTSkvZzVVhXr1YTtbktWOxhY.json\n",
       "iRusfgy2RbSqjShLaVWJQ21sh4E=  ./data/1/7VkxKi84dUugRxCOaQ3q2e2VBCM.json\n",
       "UiQ0PhcBxUAaRlZNQdTeuo0FBEI=   ./data/1/GiCvmlE-6touLM7OHLCXxMRgGKw.xml"
      ]
     },
     "execution_count": 4,
     "metadata": {},
     "output_type": "execute_result"
    }
   ],
   "source": [
    "%%time\n",
    "\n",
    "filemeta = getCorpus('./data/**/*')\n",
    "filemeta = filemeta[['fingerprint', 'filename']].set_index('fingerprint')\n",
    "filemeta.head()"
   ]
  },
  {
   "cell_type": "code",
   "execution_count": 5,
   "id": "e359534d-c059-47d7-a36b-6ef64100d861",
   "metadata": {
    "execution": {
     "iopub.execute_input": "2022-08-20T18:51:50.345556Z",
     "iopub.status.busy": "2022-08-20T18:51:50.345409Z",
     "iopub.status.idle": "2022-08-20T18:51:50.351018Z",
     "shell.execute_reply": "2022-08-20T18:51:50.350723Z"
    },
    "tags": []
   },
   "outputs": [],
   "source": [
    "# Join to get filenames\n",
    "meta = meta.join(filemeta).reset_index()"
   ]
  },
  {
   "cell_type": "markdown",
   "id": "e493130f-499f-481e-b477-e4178e105718",
   "metadata": {},
   "source": [
    "## Convert row into destination filename string"
   ]
  },
  {
   "cell_type": "code",
   "execution_count": 6,
   "id": "3b0a4259-71a8-4784-910c-3819a0810257",
   "metadata": {
    "execution": {
     "iopub.execute_input": "2022-08-20T18:51:50.352816Z",
     "iopub.status.busy": "2022-08-20T18:51:50.352718Z",
     "iopub.status.idle": "2022-08-20T18:51:52.707864Z",
     "shell.execute_reply": "2022-08-20T18:51:52.707567Z"
    },
    "tags": []
   },
   "outputs": [
    {
     "name": "stdout",
     "output_type": "stream",
     "text": [
      "CPU times: user 1.77 s, sys: 397 ms, total: 2.17 s\n",
      "Wall time: 2.35 s\n"
     ]
    }
   ],
   "source": [
    "%%time\n",
    "\n",
    "corpusdir = './corpus'\n",
    "\n",
    "if not os.path.exists(corpusdir):\n",
    "    os.mkdir(corpusdir)\n",
    "\n",
    "for index, row in meta.iterrows():\n",
    "    sourcename = str(row.source).split('m/')[-1].replace('/', '')\n",
    "    filename, file_extension = os.path.splitext(row.filename)\n",
    "    \n",
    "    # Convert CSV record into output JSON Doc and setup outfile name\n",
    "    outfile = os.path.join(corpusdir, sourcename + '.json')    \n",
    "    doc = json.loads(row.to_json(orient='index'))\n",
    "\n",
    "    # #########\n",
    "    # Process JSON file and put text into the Doc.\n",
    "    if file_extension == '.json':\n",
    "        with open(row.filename, 'r') as f:\n",
    "            data = json.load(f)\n",
    "\n",
    "        # Take raw text from trafilatura source\n",
    "        doc['text'] = data['text']\n",
    "\n",
    "            \n",
    "    # #########\n",
    "    # Process XML files into JSON files.\n",
    "    # load the old xml and get the text into the output JSON\n",
    "    if file_extension == '.xml':\n",
    "        # Load the XML file and get the text out, clean it a bit to make it plain text.\n",
    "        root = ET.parse(row.filename).getroot()\n",
    "        main = root.find('main')\n",
    "        text = xml.etree.ElementTree.tostring(root, method='text', encoding=\"unicode\")\n",
    "        text = _RE_COMBINE_WHITESPACE.sub(' ', text).strip()\n",
    "        \n",
    "        # Take raw text from trafilatura source\n",
    "        doc['text'] = text\n",
    "\n",
    "    # Output the Doc to JSON file\n",
    "    with open(outfile, 'w') as f: #  Save to JSON files\n",
    "        # print('Saving file: ', outfile, file_extension)\n",
    "        del doc['filename']  #  remove old filename\n",
    "        json.dump(doc, f)"
   ]
  },
  {
   "cell_type": "code",
   "execution_count": null,
   "id": "136cd5b5-9ebc-44db-bf76-777e069239a6",
   "metadata": {},
   "outputs": [],
   "source": []
  },
  {
   "cell_type": "code",
   "execution_count": null,
   "id": "d9b7ece4-3c3e-4d39-b625-609d6ad6a471",
   "metadata": {},
   "outputs": [],
   "source": []
  },
  {
   "cell_type": "code",
   "execution_count": null,
   "id": "2debd8f6-1c5d-48ed-ac28-30f825ffcb25",
   "metadata": {},
   "outputs": [],
   "source": []
  }
 ],
 "metadata": {
  "kernelspec": {
   "display_name": "Python 3 (ipykernel)",
   "language": "python",
   "name": "python3"
  },
  "language_info": {
   "codemirror_mode": {
    "name": "ipython",
    "version": 3
   },
   "file_extension": ".py",
   "mimetype": "text/x-python",
   "name": "python",
   "nbconvert_exporter": "python",
   "pygments_lexer": "ipython3",
   "version": "3.10.4"
  }
 },
 "nbformat": 4,
 "nbformat_minor": 5
}
